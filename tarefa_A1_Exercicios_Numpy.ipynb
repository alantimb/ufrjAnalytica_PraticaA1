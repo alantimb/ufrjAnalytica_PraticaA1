{
 "cells": [
  {
   "cell_type": "code",
   "execution_count": null,
   "metadata": {},
   "outputs": [],
   "source": [
    "import numpy as np"
   ]
  },
  {
   "cell_type": "code",
   "execution_count": null,
   "metadata": {},
   "outputs": [],
   "source": [
    "arr = np.array([5.5, 3.8, 9, 7.5, 10.0, 9.9, 8.5])\n",
    "\n",
    "soma, media, somatorio, desvioPadrao = 0, 0, 0, 0\n",
    "# iterações para cálculo da média\n",
    "for i in arr:\n",
    "    soma += i\n",
    "    if i == arr[len(arr)-1]:\n",
    "        media = soma/len(arr)\n",
    "        break\n",
    "# iterações para cálculo do desvio padrão\n",
    "for i in arr:\n",
    "    somatorio += (i - media)**2\n",
    "    if i == arr[len(arr)-1]:\n",
    "        desvioPadrao += np.sqrt(somatorio/len(arr))\n",
    "        break\n",
    "    \n",
    "letraA = f'(a) A média dos valores é {media:,.3f}.'\n",
    "letraB = f'(b) O desvio padrão dos valores é {desvioPadrao:,.3f}'\n",
    "resposta = f'Item 4. \\n {letraA} \\n {letraB}.\\n'\n",
    "\n",
    "print(resposta)"
   ]
  },
  {
   "cell_type": "code",
   "execution_count": null,
   "metadata": {},
   "outputs": [],
   "source": [
    "arr = np.array([5.5, 3.8, 9, 7.5, 10.0, 9.9, 8.5])\n",
    "    \n",
    "arrayOrdenado = np.sort(arr)\n",
    "mediaValores = f'Item 5.\\n(c) A média dos valores do array ordenado {arrayOrdenado} é: '\n",
    "print(mediaValores, arrayOrdenado.mean())\n",
    "\n",
    "arrayAleatorio = np.random.randint(11, size=(100))\n",
    "mediaArrayAleatorio = arrayAleatorio.mean()\n",
    "desvPadArrayAleatorio = arrayAleatorio.std()\n",
    "valMaxArrayAleatorio = arrayAleatorio.max()\n",
    "valMinArrayAleatorio = arrayAleatorio.min()\n",
    "\n",
    "resposta = f'''(e) O array de 100 números aleatórios entre 0 e 10 (inclusive) possui\n",
    "    Média: {mediaArrayAleatorio:,.3f}\n",
    "    Desvio padrão: {desvPadArrayAleatorio:,.3f}\n",
    "    Maior valor: {valMaxArrayAleatorio}\n",
    "    Menor valor: {valMinArrayAleatorio}'''\n",
    "\n",
    "print(resposta)"
   ]
  }
 ],
 "metadata": {
  "kernelspec": {
   "display_name": "Python 3",
   "language": "python",
   "name": "python3"
  },
  "language_info": {
   "codemirror_mode": {
    "name": "ipython",
    "version": 3
   },
   "file_extension": ".py",
   "mimetype": "text/x-python",
   "name": "python",
   "nbconvert_exporter": "python",
   "pygments_lexer": "ipython3",
   "version": "3.10.6"
  },
  "orig_nbformat": 4
 },
 "nbformat": 4,
 "nbformat_minor": 2
}
