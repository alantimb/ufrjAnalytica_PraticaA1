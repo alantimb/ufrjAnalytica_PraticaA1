{
 "cells": [
  {
   "cell_type": "code",
   "execution_count": 154,
   "metadata": {},
   "outputs": [],
   "source": [
    "import numpy as np\n",
    "import pandas as pd"
   ]
  },
  {
   "cell_type": "code",
   "execution_count": 155,
   "metadata": {},
   "outputs": [
    {
     "data": {
      "text/html": [
       "<div>\n",
       "<style scoped>\n",
       "    .dataframe tbody tr th:only-of-type {\n",
       "        vertical-align: middle;\n",
       "    }\n",
       "\n",
       "    .dataframe tbody tr th {\n",
       "        vertical-align: top;\n",
       "    }\n",
       "\n",
       "    .dataframe thead th {\n",
       "        text-align: right;\n",
       "    }\n",
       "</style>\n",
       "<table border=\"1\" class=\"dataframe\">\n",
       "  <thead>\n",
       "    <tr style=\"text-align: right;\">\n",
       "      <th></th>\n",
       "      <th>ano</th>\n",
       "      <th>sigla_uf</th>\n",
       "      <th>expectativa_vida</th>\n",
       "      <th>populacao_urbana</th>\n",
       "      <th>populacao_rural</th>\n",
       "      <th>idhm</th>\n",
       "    </tr>\n",
       "  </thead>\n",
       "  <tbody>\n",
       "    <tr>\n",
       "      <th>0</th>\n",
       "      <td>1991</td>\n",
       "      <td>AC</td>\n",
       "      <td>63.72</td>\n",
       "      <td>258520</td>\n",
       "      <td>159198</td>\n",
       "      <td>0.402</td>\n",
       "    </tr>\n",
       "    <tr>\n",
       "      <th>1</th>\n",
       "      <td>1991</td>\n",
       "      <td>AL</td>\n",
       "      <td>58.10</td>\n",
       "      <td>1482033</td>\n",
       "      <td>1032067</td>\n",
       "      <td>0.370</td>\n",
       "    </tr>\n",
       "    <tr>\n",
       "      <th>2</th>\n",
       "      <td>1991</td>\n",
       "      <td>AM</td>\n",
       "      <td>63.67</td>\n",
       "      <td>1502754</td>\n",
       "      <td>600489</td>\n",
       "      <td>0.430</td>\n",
       "    </tr>\n",
       "    <tr>\n",
       "      <th>3</th>\n",
       "      <td>1991</td>\n",
       "      <td>AP</td>\n",
       "      <td>65.05</td>\n",
       "      <td>234131</td>\n",
       "      <td>55266</td>\n",
       "      <td>0.472</td>\n",
       "    </tr>\n",
       "    <tr>\n",
       "      <th>4</th>\n",
       "      <td>1991</td>\n",
       "      <td>BA</td>\n",
       "      <td>59.94</td>\n",
       "      <td>7016770</td>\n",
       "      <td>4851221</td>\n",
       "      <td>0.386</td>\n",
       "    </tr>\n",
       "    <tr>\n",
       "      <th>...</th>\n",
       "      <td>...</td>\n",
       "      <td>...</td>\n",
       "      <td>...</td>\n",
       "      <td>...</td>\n",
       "      <td>...</td>\n",
       "      <td>...</td>\n",
       "    </tr>\n",
       "    <tr>\n",
       "      <th>76</th>\n",
       "      <td>2010</td>\n",
       "      <td>RS</td>\n",
       "      <td>75.38</td>\n",
       "      <td>9100291</td>\n",
       "      <td>1593638</td>\n",
       "      <td>0.746</td>\n",
       "    </tr>\n",
       "    <tr>\n",
       "      <th>77</th>\n",
       "      <td>2010</td>\n",
       "      <td>SC</td>\n",
       "      <td>76.61</td>\n",
       "      <td>5247913</td>\n",
       "      <td>1000523</td>\n",
       "      <td>0.774</td>\n",
       "    </tr>\n",
       "    <tr>\n",
       "      <th>78</th>\n",
       "      <td>2010</td>\n",
       "      <td>SE</td>\n",
       "      <td>71.84</td>\n",
       "      <td>1520366</td>\n",
       "      <td>547651</td>\n",
       "      <td>0.665</td>\n",
       "    </tr>\n",
       "    <tr>\n",
       "      <th>79</th>\n",
       "      <td>2010</td>\n",
       "      <td>SP</td>\n",
       "      <td>75.69</td>\n",
       "      <td>39585251</td>\n",
       "      <td>1676948</td>\n",
       "      <td>0.783</td>\n",
       "    </tr>\n",
       "    <tr>\n",
       "      <th>80</th>\n",
       "      <td>2010</td>\n",
       "      <td>TO</td>\n",
       "      <td>72.56</td>\n",
       "      <td>1090106</td>\n",
       "      <td>293339</td>\n",
       "      <td>0.699</td>\n",
       "    </tr>\n",
       "  </tbody>\n",
       "</table>\n",
       "<p>81 rows × 6 columns</p>\n",
       "</div>"
      ],
      "text/plain": [
       "     ano sigla_uf  expectativa_vida  populacao_urbana  populacao_rural   idhm\n",
       "0   1991       AC             63.72            258520           159198  0.402\n",
       "1   1991       AL             58.10           1482033          1032067  0.370\n",
       "2   1991       AM             63.67           1502754           600489  0.430\n",
       "3   1991       AP             65.05            234131            55266  0.472\n",
       "4   1991       BA             59.94           7016770          4851221  0.386\n",
       "..   ...      ...               ...               ...              ...    ...\n",
       "76  2010       RS             75.38           9100291          1593638  0.746\n",
       "77  2010       SC             76.61           5247913          1000523  0.774\n",
       "78  2010       SE             71.84           1520366           547651  0.665\n",
       "79  2010       SP             75.69          39585251          1676948  0.783\n",
       "80  2010       TO             72.56           1090106           293339  0.699\n",
       "\n",
       "[81 rows x 6 columns]"
      ]
     },
     "execution_count": 155,
     "metadata": {},
     "output_type": "execute_result"
    }
   ],
   "source": [
    "df = pd.read_csv(\"Dataset_Processo_Seletivo_UFRJ_Analytica_2022.1.csv\")\n",
    "\n",
    "df"
   ]
  },
  {
   "cell_type": "code",
   "execution_count": 156,
   "metadata": {},
   "outputs": [
    {
     "name": "stdout",
     "output_type": "stream",
     "text": [
      "Item 3. \n",
      "O IDH médio do Brasil no ano de 1991 foi de 0.454\n"
     ]
    }
   ],
   "source": [
    "# Filtragem do ano de 1991 e média de IDH's\n",
    "df_anoFiltrado = df[ df[\"ano\"] == 1991 ]\n",
    "df_idhMedio = df_anoFiltrado[\"idhm\"].mean()\n",
    "\n",
    "resposta = f'Item 3. \\nO IDH médio do Brasil no ano de 1991 foi de {df_idhMedio:,.3f}'\n",
    "\n",
    "print(resposta)"
   ]
  },
  {
   "cell_type": "code",
   "execution_count": 157,
   "metadata": {},
   "outputs": [
    {
     "name": "stdout",
     "output_type": "stream",
     "text": [
      "Item 4. \n",
      "O estados brasileiros que possuem IDH acima da média no ano de 1991 são: \n",
      "AP, DF, ES, GO, MG, MS, PR, RJ, RR, RS, SC e SP.\n",
      "\n"
     ]
    }
   ],
   "source": [
    "df_idhFiltrado = df_anoFiltrado[ df_anoFiltrado[\"idhm\"] > df_idhMedio]\n",
    "arrayEstados = df_idhFiltrado.sigla_uf.unique()\n",
    "\n",
    "estados = ''\n",
    "for i in arrayEstados:\n",
    "    if i == arrayEstados[len(arrayEstados)-1]:\n",
    "        estados += i\n",
    "        break\n",
    "    elif i == arrayEstados[len(arrayEstados)-2]:\n",
    "        estados = estados + i + \" e \"\n",
    "    else:\n",
    "        estados = estados + i + \", \"\n",
    "\n",
    "resposta = f'''Item 4. \n",
    "Os estados brasileiros que possuem IDH acima da média no ano de 1991 são: \n",
    "{estados}.\n",
    "'''\n",
    "print(resposta)"
   ]
  },
  {
   "cell_type": "code",
   "execution_count": 160,
   "metadata": {},
   "outputs": [
    {
     "name": "stdout",
     "output_type": "stream",
     "text": [
      "Item 5. \n",
      "Os cincos primeiros estados ordenados pelo IDH de 1991 são:\n",
      "\n",
      "     ano sigla_uf  expectativa_vida  populacao_urbana  populacao_rural   idhm\n",
      "9   1991       MA             58.04           1972421          2957832  0.357\n",
      "16  1991       PI             60.71           1367184          1214953  0.362\n",
      "26  1991       TO             60.32            530636           389227  0.369\n",
      "1   1991       AL             58.10           1482033          1032067  0.370\n",
      "14  1991       PB             58.88           2052066          1149048  0.382\n",
      "\n"
     ]
    }
   ],
   "source": [
    "df_idhOrdenado = df_anoFiltrado.sort_values(\"idhm\").head(5)\n",
    "\n",
    "resposta = f'''Item 5. \n",
    "Os cincos primeiros estados ordenados pelo IDH de 1991 são:\\n\n",
    "{df_idhOrdenado}\n",
    "'''\n",
    "print(resposta)"
   ]
  },
  {
   "cell_type": "code",
   "execution_count": 161,
   "metadata": {},
   "outputs": [
    {
     "name": "stdout",
     "output_type": "stream",
     "text": [
      "Item 6. \n",
      "Analisando os dados do DataFrame, pode-se percerber que no ano de 1991, o estado do MA teve o menor IDH de 0.357.\n",
      "Já o estado do DF, em contrapartida, teve o maior IDH do ano, com valor de 0.616.\n",
      "\n"
     ]
    }
   ],
   "source": [
    "maiorIdh = df_anoFiltrado.idhm.max()\n",
    "estadoMaiorIdh = df_anoFiltrado[ df_anoFiltrado[\"idhm\"] == maiorIdh].sigla_uf.unique()[0]\n",
    "menorIdh = df_anoFiltrado.idhm.min()\n",
    "estadoMenorIdh = df_anoFiltrado[ df_anoFiltrado[\"idhm\"] == menorIdh].sigla_uf.unique()[0]\n",
    "\n",
    "resposta = f'''Item 6. \n",
    "Analisando os dados do DataFrame, pode-se percerber que no ano de 1991, o estado do {estadoMenorIdh} teve o menor IDH de {menorIdh}.\n",
    "Já o estado do {estadoMaiorIdh}, em contrapartida, teve o maior IDH do ano, com valor de {maiorIdh}.\n",
    "'''\n",
    "print(resposta)"
   ]
  }
 ],
 "metadata": {
  "kernelspec": {
   "display_name": "Python 3",
   "language": "python",
   "name": "python3"
  },
  "language_info": {
   "codemirror_mode": {
    "name": "ipython",
    "version": 3
   },
   "file_extension": ".py",
   "mimetype": "text/x-python",
   "name": "python",
   "nbconvert_exporter": "python",
   "pygments_lexer": "ipython3",
   "version": "3.10.6"
  },
  "orig_nbformat": 4
 },
 "nbformat": 4,
 "nbformat_minor": 2
}
